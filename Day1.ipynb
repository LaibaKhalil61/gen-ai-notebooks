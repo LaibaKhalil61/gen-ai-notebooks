{
  "nbformat": 4,
  "nbformat_minor": 0,
  "metadata": {
    "colab": {
      "provenance": [],
      "authorship_tag": "ABX9TyOR8WIuNXwXbxRMMd5Qqy1k",
      "include_colab_link": true
    },
    "kernelspec": {
      "name": "python3",
      "display_name": "Python 3"
    },
    "language_info": {
      "name": "python"
    }
  },
  "cells": [
    {
      "cell_type": "markdown",
      "metadata": {
        "id": "view-in-github",
        "colab_type": "text"
      },
      "source": [
        "<a href=\"https://colab.research.google.com/github/LaibaKhalil61/gen-ai-notebooks/blob/main/Day1.ipynb\" target=\"_parent\"><img src=\"https://colab.research.google.com/assets/colab-badge.svg\" alt=\"Open In Colab\"/></a>"
      ]
    },
    {
      "cell_type": "code",
      "execution_count": 3,
      "metadata": {
        "colab": {
          "base_uri": "https://localhost:8080/"
        },
        "id": "i8zOUfIpOuxC",
        "outputId": "034044a1-d3f7-4652-949c-3de23b6a1a37"
      },
      "outputs": [
        {
          "output_type": "stream",
          "name": "stdout",
          "text": [
            "Requirement already satisfied: nltk in /usr/local/lib/python3.10/dist-packages (3.8.1)\n",
            "Requirement already satisfied: click in /usr/local/lib/python3.10/dist-packages (from nltk) (8.1.7)\n",
            "Requirement already satisfied: joblib in /usr/local/lib/python3.10/dist-packages (from nltk) (1.4.2)\n",
            "Requirement already satisfied: regex>=2021.8.3 in /usr/local/lib/python3.10/dist-packages (from nltk) (2024.9.11)\n",
            "Requirement already satisfied: tqdm in /usr/local/lib/python3.10/dist-packages (from nltk) (4.66.5)\n"
          ]
        }
      ],
      "source": [
        "!pip install nltk"
      ]
    },
    {
      "cell_type": "code",
      "source": [
        "corpus = \"Cristiano Ronaldo dos Santos Aveiro GOIH ComM (Portuguese pronunciation: [kɾiʃˈtjɐnu ʁɔˈnaldu]; born 5 February 1985) is a Portuguese professional footballer who plays as a forward for and captains both Saudi Pro League club Al Nassr and the Portugal national team. Widely regarded as one of the greatest players of all time, Ronaldo set numerous records for individual accolades won throughout his professional footballing career, such as five Ballon d'Or awards, a record three UEFA Men's Player of the Year Awards, four European Golden Shoes, and was named five times the world's best player by FIFA,[note 3] the most by a European player. He has won 33 trophies in his career, including seven league titles, five UEFA Champions Leagues, the UEFA European Championship and the UEFA Nations League. Ronaldo holds the records for most appearances (183), goals (140) and assists (42) in the Champions League, most appearances (30), assists (8), goals in the European Championship (14), international appearances (216) and international goals (133). He is one of the few players to have made over 1,200 professional career appearances, the most by an outfield player, and has scored over 900 official senior career goals for club and country, making him the top goalscorer of all time.[note 4]\""
      ],
      "metadata": {
        "id": "UhoNT8uRPEh4"
      },
      "execution_count": 4,
      "outputs": []
    },
    {
      "cell_type": "code",
      "source": [
        "corpus"
      ],
      "metadata": {
        "colab": {
          "base_uri": "https://localhost:8080/",
          "height": 105
        },
        "id": "t3gIPDBDPO1l",
        "outputId": "3e01ea80-3e1c-41d7-8fa9-0a308484acde"
      },
      "execution_count": 5,
      "outputs": [
        {
          "output_type": "execute_result",
          "data": {
            "text/plain": [
              "\"Cristiano Ronaldo dos Santos Aveiro GOIH ComM (Portuguese pronunciation: [kɾiʃˈtjɐnu ʁɔˈnaldu]; born 5 February 1985) is a Portuguese professional footballer who plays as a forward for and captains both Saudi Pro League club Al Nassr and the Portugal national team. Widely regarded as one of the greatest players of all time, Ronaldo set numerous records for individual accolades won throughout his professional footballing career, such as five Ballon d'Or awards, a record three UEFA Men's Player of the Year Awards, four European Golden Shoes, and was named five times the world's best player by FIFA,[note 3] the most by a European player. He has won 33 trophies in his career, including seven league titles, five UEFA Champions Leagues, the UEFA European Championship and the UEFA Nations League. Ronaldo holds the records for most appearances (183), goals (140) and assists (42) in the Champions League, most appearances (30), assists (8), goals in the European Championship (14), international appearances (216) and international goals (133). He is one of the few players to have made over 1,200 professional career appearances, the most by an outfield player, and has scored over 900 official senior career goals for club and country, making him the top goalscorer of all time.[note 4]\""
            ],
            "application/vnd.google.colaboratory.intrinsic+json": {
              "type": "string"
            }
          },
          "metadata": {},
          "execution_count": 5
        }
      ]
    },
    {
      "cell_type": "code",
      "source": [
        "\n",
        "import nltk\n",
        "from nltk.stem import PorterStemmer\n",
        "from nltk.stem import WordNetLemmatizer\n",
        "from nltk.corpus import stopwords\n",
        "from nltk.tokenize import word_tokenize\n",
        "from nltk.tokenize import sent_tokenize\n",
        "nltk.download('punkt')"
      ],
      "metadata": {
        "colab": {
          "base_uri": "https://localhost:8080/"
        },
        "id": "uA1QbPlhP1eN",
        "outputId": "7020369c-35db-4a08-fc9a-273cb417a472"
      },
      "execution_count": 6,
      "outputs": [
        {
          "output_type": "stream",
          "name": "stderr",
          "text": [
            "[nltk_data] Downloading package punkt to /root/nltk_data...\n",
            "[nltk_data]   Unzipping tokenizers/punkt.zip.\n"
          ]
        },
        {
          "output_type": "execute_result",
          "data": {
            "text/plain": [
              "True"
            ]
          },
          "metadata": {},
          "execution_count": 6
        }
      ]
    },
    {
      "cell_type": "code",
      "source": [
        "##Tokenization\n",
        "sentences = sent_tokenize(corpus)\n",
        "print(sentences)\n"
      ],
      "metadata": {
        "colab": {
          "base_uri": "https://localhost:8080/"
        },
        "id": "am2g7UYMclhu",
        "outputId": "c9d9e40f-aa17-4f47-fbcd-c66688d9c122"
      },
      "execution_count": 7,
      "outputs": [
        {
          "output_type": "stream",
          "name": "stdout",
          "text": [
            "['Cristiano Ronaldo dos Santos Aveiro GOIH ComM (Portuguese pronunciation: [kɾiʃˈtjɐnu ʁɔˈnaldu]; born 5 February 1985) is a Portuguese professional footballer who plays as a forward for and captains both Saudi Pro League club Al Nassr and the Portugal national team.', \"Widely regarded as one of the greatest players of all time, Ronaldo set numerous records for individual accolades won throughout his professional footballing career, such as five Ballon d'Or awards, a record three UEFA Men's Player of the Year Awards, four European Golden Shoes, and was named five times the world's best player by FIFA,[note 3] the most by a European player.\", 'He has won 33 trophies in his career, including seven league titles, five UEFA Champions Leagues, the UEFA European Championship and the UEFA Nations League.', 'Ronaldo holds the records for most appearances (183), goals (140) and assists (42) in the Champions League, most appearances (30), assists (8), goals in the European Championship (14), international appearances (216) and international goals (133).', 'He is one of the few players to have made over 1,200 professional career appearances, the most by an outfield player, and has scored over 900 official senior career goals for club and country, making him the top goalscorer of all time.', '[note 4]']\n"
          ]
        }
      ]
    },
    {
      "cell_type": "code",
      "source": [
        "import re\n",
        "cleaned_sentences = [];\n",
        "##Cleaning the data\n",
        "for sen in sentences:\n",
        "  sen = re.sub('[^a-zA-Z]',' ',sen);\n",
        "  sen = sen.lower();\n",
        "  cleaned_sentences.append(sen)\n",
        "print(cleaned_sentences)"
      ],
      "metadata": {
        "colab": {
          "base_uri": "https://localhost:8080/"
        },
        "id": "Htm1t9NtdzmT",
        "outputId": "87d532b4-2b0c-4bb0-e835-4d1ce4485c4c"
      },
      "execution_count": 8,
      "outputs": [
        {
          "output_type": "stream",
          "name": "stdout",
          "text": [
            "['cristiano ronaldo dos santos aveiro goih comm  portuguese pronunciation   k i  tj nu    naldu   born   february       is a portuguese professional footballer who plays as a forward for and captains both saudi pro league club al nassr and the portugal national team ', 'widely regarded as one of the greatest players of all time  ronaldo set numerous records for individual accolades won throughout his professional footballing career  such as five ballon d or awards  a record three uefa men s player of the year awards  four european golden shoes  and was named five times the world s best player by fifa  note    the most by a european player ', 'he has won    trophies in his career  including seven league titles  five uefa champions leagues  the uefa european championship and the uefa nations league ', 'ronaldo holds the records for most appearances        goals       and assists      in the champions league  most appearances       assists      goals in the european championship       international appearances       and international goals       ', 'he is one of the few players to have made over       professional career appearances  the most by an outfield player  and has scored over     official senior career goals for club and country  making him the top goalscorer of all time ', ' note   ']\n"
          ]
        }
      ]
    },
    {
      "cell_type": "code",
      "source": [
        "lemmatizer = WordNetLemmatizer()"
      ],
      "metadata": {
        "id": "PR4OFdNegwpr"
      },
      "execution_count": 9,
      "outputs": []
    },
    {
      "cell_type": "code",
      "source": [
        "nltk.download('stopwords')\n",
        "print('a' in stopwords.words('english'))"
      ],
      "metadata": {
        "colab": {
          "base_uri": "https://localhost:8080/"
        },
        "id": "GULMojRShkPb",
        "outputId": "750d47ef-fcac-4d7d-8fe5-a602e2d1402b"
      },
      "execution_count": 10,
      "outputs": [
        {
          "output_type": "stream",
          "name": "stdout",
          "text": [
            "True\n"
          ]
        },
        {
          "output_type": "stream",
          "name": "stderr",
          "text": [
            "[nltk_data] Downloading package stopwords to /root/nltk_data...\n",
            "[nltk_data]   Unzipping corpora/stopwords.zip.\n"
          ]
        }
      ]
    },
    {
      "cell_type": "code",
      "source": [
        "##Word tokenization\n",
        "nltk.download('wordnet')\n",
        "final_sentences = []\n",
        "for sen in cleaned_sentences:\n",
        "  words = word_tokenize(sen);\n",
        "  lemmatized_words = [lemmatizer.lemmatize(word) for word in words if word not in stopwords.words('english')]\n",
        "  sen = ' '.join(lemmatized_words)\n",
        "  final_sentences.append(sen)"
      ],
      "metadata": {
        "colab": {
          "base_uri": "https://localhost:8080/"
        },
        "id": "Q6DK-fBofV0n",
        "outputId": "9e8acf26-5a5c-4078-d4b9-04b0ce57d97c"
      },
      "execution_count": 11,
      "outputs": [
        {
          "output_type": "stream",
          "name": "stderr",
          "text": [
            "[nltk_data] Downloading package wordnet to /root/nltk_data...\n"
          ]
        }
      ]
    },
    {
      "cell_type": "code",
      "source": [
        "print(final_sentences)"
      ],
      "metadata": {
        "colab": {
          "base_uri": "https://localhost:8080/"
        },
        "id": "Gnv3fyiLjTzR",
        "outputId": "e7126543-2803-4510-eb68-0ac1dfce37dc"
      },
      "execution_count": 12,
      "outputs": [
        {
          "output_type": "stream",
          "name": "stdout",
          "text": [
            "['cristiano ronaldo do santos aveiro goih comm portuguese pronunciation k tj nu naldu born february portuguese professional footballer play forward captain saudi pro league club al nassr portugal national team', 'widely regarded one greatest player time ronaldo set numerous record individual accolade throughout professional footballing career five ballon award record three uefa men player year award four european golden shoe named five time world best player fifa note european player', 'trophy career including seven league title five uefa champion league uefa european championship uefa nation league', 'ronaldo hold record appearance goal assist champion league appearance assist goal european championship international appearance international goal', 'one player made professional career appearance outfield player scored official senior career goal club country making top goalscorer time', 'note']\n"
          ]
        }
      ]
    },
    {
      "cell_type": "code",
      "source": [
        "from sklearn.feature_extraction.text import CountVectorizer\n",
        "cv = CountVectorizer()\n",
        "X = cv.fit_transform(final_sentences)\n",
        "X[0].toarray()"
      ],
      "metadata": {
        "colab": {
          "base_uri": "https://localhost:8080/"
        },
        "id": "xGaM1VbhjfVG",
        "outputId": "6b56c4c4-0025-4907-a1d2-c0a6c5c02089"
      },
      "execution_count": 13,
      "outputs": [
        {
          "output_type": "execute_result",
          "data": {
            "text/plain": [
              "array([[0, 1, 0, 0, 1, 0, 0, 0, 1, 1, 0, 0, 0, 1, 1, 0, 1, 1, 0, 1, 0, 0,\n",
              "        1, 0, 1, 0, 0, 0, 1, 0, 0, 0, 0, 0, 0, 1, 0, 0, 0, 1, 0, 1, 0, 1,\n",
              "        0, 1, 0, 0, 0, 0, 1, 0, 1, 2, 1, 1, 1, 0, 0, 1, 1, 1, 0, 0, 0, 0,\n",
              "        0, 1, 0, 0, 0, 0, 1, 0, 0, 0, 0, 0, 0]])"
            ]
          },
          "metadata": {},
          "execution_count": 13
        }
      ]
    },
    {
      "cell_type": "code",
      "source": [
        "cv.get_feature_names_out()"
      ],
      "metadata": {
        "colab": {
          "base_uri": "https://localhost:8080/"
        },
        "id": "4NfmYo5qkFC3",
        "outputId": "3caf8edd-6d4f-458d-e7b5-222cf5dbd078"
      },
      "execution_count": 14,
      "outputs": [
        {
          "output_type": "execute_result",
          "data": {
            "text/plain": [
              "array(['accolade', 'al', 'appearance', 'assist', 'aveiro', 'award',\n",
              "       'ballon', 'best', 'born', 'captain', 'career', 'champion',\n",
              "       'championship', 'club', 'comm', 'country', 'cristiano', 'do',\n",
              "       'european', 'february', 'fifa', 'five', 'footballer',\n",
              "       'footballing', 'forward', 'four', 'goal', 'goalscorer', 'goih',\n",
              "       'golden', 'greatest', 'hold', 'including', 'individual',\n",
              "       'international', 'league', 'made', 'making', 'men', 'naldu',\n",
              "       'named', 'nassr', 'nation', 'national', 'note', 'nu', 'numerous',\n",
              "       'official', 'one', 'outfield', 'play', 'player', 'portugal',\n",
              "       'portuguese', 'pro', 'professional', 'pronunciation', 'record',\n",
              "       'regarded', 'ronaldo', 'santos', 'saudi', 'scored', 'senior',\n",
              "       'set', 'seven', 'shoe', 'team', 'three', 'throughout', 'time',\n",
              "       'title', 'tj', 'top', 'trophy', 'uefa', 'widely', 'world', 'year'],\n",
              "      dtype=object)"
            ]
          },
          "metadata": {},
          "execution_count": 14
        }
      ]
    },
    {
      "cell_type": "code",
      "source": [
        "from sklearn.feature_extraction.text import TfidfVectorizer"
      ],
      "metadata": {
        "id": "frtYnGmexJQy"
      },
      "execution_count": 15,
      "outputs": []
    },
    {
      "cell_type": "code",
      "source": [
        "cv = TfidfVectorizer(max_features = 4)\n",
        "X = cv.fit_transform(final_sentences)"
      ],
      "metadata": {
        "id": "7ms3bSEaxbsL"
      },
      "execution_count": 22,
      "outputs": []
    },
    {
      "cell_type": "code",
      "source": [
        "final_sentences[0]\n",
        "X[0].toarray()"
      ],
      "metadata": {
        "colab": {
          "base_uri": "https://localhost:8080/"
        },
        "id": "jU9WG3YUx0FH",
        "outputId": "35b66f7c-c437-4d6d-8bd6-467f6c088b71"
      },
      "execution_count": 23,
      "outputs": [
        {
          "output_type": "execute_result",
          "data": {
            "text/plain": [
              "array([[0., 1., 0., 0.]])"
            ]
          },
          "metadata": {},
          "execution_count": 23
        }
      ]
    }
  ]
}